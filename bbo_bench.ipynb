{
 "cells": [
  {
   "cell_type": "markdown",
   "metadata": {},
   "source": [
    "#  ブラックボックス最適化(BBO)ベンチマーク\n",
    "\n",
    "## 手法\n",
    "### 遺伝的アルゴリズム\n",
    "\n",
    "### 進化戦略\n",
    "https://www.jstage.jst.go.jp/article/sicejl/54/8/54_567/_pdf\n",
    "http://www.matsumoto.nuem.nagoya-u.ac.jp/jascome/denshi-journal/20/No.08-201219.pdf\n",
    "https://arxiv.org/abs/1604.00772\n",
    "https://horomary.hatenablog.com/entry/2021/01/23/013508\n",
    "https://math-note.com/multivariate-normal-distribution/"
   ]
  },
  {
   "cell_type": "code",
   "execution_count": 1,
   "metadata": {},
   "outputs": [],
   "source": [
    "import numpy as np\n",
    "import pandas as pd\n",
    "import matplotlib.pyplot as plt\n",
    "plt.rcParams[\"figure.facecolor\"] = \"white\"\n",
    "\n",
    "import os\n",
    "import time\n",
    "import datetime\n",
    "from tqdm import tqdm\n",
    "\n",
    "from lib.bbo_algo import *\n",
    "from lib.benchmark_function import *"
   ]
  },
  {
   "cell_type": "code",
   "execution_count": 2,
   "metadata": {},
   "outputs": [],
   "source": [
    "class BenchMarker():\n",
    "    def __init__(self,max_iter=100):\n",
    "        self._bbo_table = {\n",
    "            'CMA-ES':CMA_ES(),\n",
    "            'TPE':TPE(),\n",
    "            'RandomSearch':RandomSearch(),\n",
    "            #'GridSearch':GridSearch(),\n",
    "            'GA(optuna)':NSGA(),\n",
    "            'Nelder-Mead':NelderMead(),\n",
    "            'GA(self made)':GeneticAlgorithm(),            \n",
    "        }\n",
    "        \n",
    "        self._max_iter = max_iter\n",
    "        self._result_s = dict()\n",
    "\n",
    "    def benchmark(self,model,is_plot=False):\n",
    "        \n",
    "\n",
    "        result_table = {\n",
    "            'algo':[],\n",
    "            'calc time':[],\n",
    "            'fval':[]      \n",
    "        }\n",
    "\n",
    "        result = dict()\n",
    "        for key,value in tqdm(self._bbo_table.items(),leave=False):\n",
    "            print(\"{} start!\".format(key))\n",
    "            start_time = time.perf_counter()\n",
    "            fval,params = value.optimization(model,self._max_iter)\n",
    "            end_time = time.perf_counter()\n",
    "            elapsed_time = end_time - start_time\n",
    "\n",
    "            result.update({key:(fval,params)})\n",
    "            fval_s,params_s = value.get_history()\n",
    "            self._result_s.update({key:(fval_s,params_s)})\n",
    "\n",
    "            result_table['algo'].append(key)\n",
    "            result_table['calc time'].append(elapsed_time)\n",
    "            result_table['fval'].append(fval)\n",
    "            \n",
    "            del value\n",
    "\n",
    "\n",
    "        for key,value in result.items():\n",
    "            print(\"{} achieved {}.\".format(key,value[0]))\n",
    "\n",
    "        if is_plot:\n",
    "            self.plot_history()\n",
    "\n",
    "        return pd.DataFrame(result_table) \n",
    "\n",
    "    def plot_history(self,\n",
    "                    fig_name=None,\n",
    "                    is_log = False,\n",
    "                    is_save=False\n",
    "                    ):\n",
    "        plt.figure()\n",
    "\n",
    "        trial = [i for i in range(self._max_iter)]\n",
    "        for key,value in self._result_s.items():\n",
    "            plt.plot(trial,value[0],label=key)\n",
    "        plt.legend()\n",
    "        plt.xlabel('Trial')\n",
    "        plt.ylabel('Evaluation value')\n",
    "\n",
    "        if is_log:\n",
    "            plt.yscale('log')\n",
    "        if is_save:\n",
    "            os.makedirs('fig',exist_ok=True)\n",
    "            if fig_name:\n",
    "                d = fig_name\n",
    "            else:\n",
    "                now = datetime.datetime.now()\n",
    "                d = now.strftime('%Y%m%d%H%M%S')\n",
    "            plt.savefig('fig/'+d+'.png' ,format=\"png\" ,dpi=300)\n",
    "        plt.show()      "
   ]
  },
  {
   "cell_type": "code",
   "execution_count": 3,
   "metadata": {},
   "outputs": [
    {
     "name": "stderr",
     "output_type": "stream",
     "text": [
      "  0%|          | 0/7 [00:00<?, ?it/s]"
     ]
    },
    {
     "name": "stdout",
     "output_type": "stream",
     "text": [
      "CMA-ES start!\n"
     ]
    }
   ],
   "source": [
    "df = pd.DataFrame()\n",
    "dim_s = 2**np.linspace(1, 9, 9)\n",
    "max_iter =100\n",
    "\n",
    "for dim in dim_s:\n",
    "    model_s = {\n",
    "                'QuadraticFunction':QuadraticFunction(dim=dim),\n",
    "                'StyblinskiTangFunction':StyblinskiTangFunction(dim=dim),\n",
    "                'GriewankFunction':GriewankFunction(dim=dim),\n",
    "                'AckleyFunction':AckleyFunction(dim=dim),\n",
    "                'RosenbrockFunction':RosenbrockFunction(dim=dim),\n",
    "                'SchwefelFunction':SchwefelFunction(dim=dim),\n",
    "                'XinSheYangFunction':XinSheYangFunction(dim=dim),\n",
    "            }\n",
    "\n",
    "    for name,model in tqdm(model_s.items()):\n",
    "        dict_additional = {\n",
    "            'dimention':[],\n",
    "            'model name':[]\n",
    "        }\n",
    "\n",
    "        bm = BenchMarker(max_iter=max_iter)\n",
    "        df_temp = bm.benchmark(model = model)\n",
    "        bm.plot_history(fig_name=str(dim)+'_'+name,is_log=True,is_save=True)\n",
    "\n",
    "        \n",
    "        dict_additional['dimention']=[dim for i in range(len(model_s))]\n",
    "        dict_additional['model name']=[name for i in range(len(model_s))]\n",
    "        df_additional = pd.DataFrame(dict_additional)\n",
    "\n",
    "        df_temp = pd.concat([df_temp, df_additional], axis=1)\n",
    "                \n",
    "        df = pd.concat([df,df_temp])"
   ]
  },
  {
   "cell_type": "code",
   "execution_count": null,
   "metadata": {},
   "outputs": [],
   "source": [
    "df"
   ]
  }
 ],
 "metadata": {
  "interpreter": {
   "hash": "cc7a9fd5d100dc2bd40ef9d706249a4bf08b07189e3fd3d8983ac58118e935c3"
  },
  "kernelspec": {
   "display_name": "Python 3.9.10 ('.venv': venv)",
   "language": "python",
   "name": "python3"
  },
  "language_info": {
   "codemirror_mode": {
    "name": "ipython",
    "version": 3
   },
   "file_extension": ".py",
   "mimetype": "text/x-python",
   "name": "python",
   "nbconvert_exporter": "python",
   "pygments_lexer": "ipython3",
   "version": "3.9.10"
  },
  "orig_nbformat": 4
 },
 "nbformat": 4,
 "nbformat_minor": 2
}
